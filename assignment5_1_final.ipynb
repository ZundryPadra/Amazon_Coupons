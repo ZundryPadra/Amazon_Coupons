{
 "cells": [
  {
   "cell_type": "markdown",
   "metadata": {
    "id": "CcUT6Fon_qRE"
   },
   "source": [
    "### Required Assignment 5.1: Will the Customer Accept the Coupon?\n",
    "\n",
    "**Context**\n",
    "\n",
    "Imagine driving through town and a coupon is delivered to your cell phone for a restaurant near where you are driving. Would you accept that coupon and take a short detour to the restaurant? Would you accept the coupon but use it on a subsequent trip? Would you ignore the coupon entirely? What if the coupon was for a bar instead of a restaurant? What about a coffee house? Would you accept a bar coupon with a minor passenger in the car? What about if it was just you and your partner in the car? Would weather impact the rate of acceptance? What about the time of day?\n",
    "\n",
    "Obviously, proximity to the business is a factor on whether the coupon is delivered to the driver or not, but what are the factors that determine whether a driver accepts the coupon once it is delivered to them? How would you determine whether a driver is likely to accept a coupon?\n",
    "\n",
    "**Overview**\n",
    "\n",
    "The goal of this project is to use what you know about visualizations and probability distributions to distinguish between customers who accepted a driving coupon versus those that did not.\n",
    "\n",
    "**Data**\n",
    "\n",
    "This data comes to us from the UCI Machine Learning repository and was collected via a survey on Amazon Mechanical Turk. The survey describes different driving scenarios including the destination, current time, weather, passenger, etc., and then ask the person whether he will accept the coupon if he is the driver. Answers that the user will drive there ‘right away’ or ‘later before the coupon expires’ are labeled as ‘Y = 1’ and answers ‘no, I do not want the coupon’ are labeled as ‘Y = 0’.  There are five different types of coupons -- less expensive restaurants (under \\$20), coffee houses, carry out & take away, bar, and more expensive restaurants (\\$20 - $50)."
   ]
  },
  {
   "cell_type": "markdown",
   "metadata": {
    "id": "1wORvMBJ_qRF"
   },
   "source": [
    "**Deliverables**\n",
    "\n",
    "Your final product should be a brief report that highlights the differences between customers who did and did not accept the coupons.  To explore the data you will utilize your knowledge of plotting, statistical summaries, and visualization using Python. You will publish your findings in a public facing github repository as your first portfolio piece.\n",
    "\n",
    "\n",
    "\n"
   ]
  },
  {
   "cell_type": "markdown",
   "metadata": {
    "id": "pG6_Ym6q_qRG"
   },
   "source": [
    "### Data Description\n",
    "Keep in mind that these values mentioned below are average values.\n",
    "\n",
    "The attributes of this data set include:\n",
    "1. User attributes\n",
    "    -  Gender: male, female\n",
    "    -  Age: below 21, 21 to 25, 26 to 30, etc.\n",
    "    -  Marital Status: single, married partner, unmarried partner, or widowed\n",
    "    -  Number of children: 0, 1, or more than 1\n",
    "    -  Education: high school, bachelors degree, associates degree, or graduate degree\n",
    "    -  Occupation: architecture & engineering, business & financial, etc.\n",
    "    -  Annual income: less than \\\\$12500, \\\\$12500 - \\\\$24999, \\\\$25000 - \\\\$37499, etc.\n",
    "    -  Number of times that he/she goes to a bar: 0, less than 1, 1 to 3, 4 to 8 or greater than 8\n",
    "    -  Number of times that he/she buys takeaway food: 0, less than 1, 1 to 3, 4 to 8 or greater\n",
    "    than 8\n",
    "    -  Number of times that he/she goes to a coffee house: 0, less than 1, 1 to 3, 4 to 8 or\n",
    "    greater than 8\n",
    "    -  Number of times that he/she eats at a restaurant with average expense less than \\\\$20 per\n",
    "    person: 0, less than 1, 1 to 3, 4 to 8 or greater than 8\n",
    "    -  Number of times that he/she goes to a bar: 0, less than 1, 1 to 3, 4 to 8 or greater than 8\n",
    "    \n",
    "\n",
    "2. Contextual attributes\n",
    "    - Driving destination: home, work, or no urgent destination\n",
    "    - Location of user, coupon and destination: we provide a map to show the geographical\n",
    "    location of the user, destination, and the venue, and we mark the distance between each\n",
    "    two places with time of driving. The user can see whether the venue is in the same\n",
    "    direction as the destination.\n",
    "    - Weather: sunny, rainy, or snowy\n",
    "    - Temperature: 30F, 55F, or 80F\n",
    "    - Time: 10AM, 2PM, or 6PM\n",
    "    - Passenger: alone, partner, kid(s), or friend(s)\n",
    "\n",
    "\n",
    "3. Coupon attributes\n",
    "    - time before it expires: 2 hours or one day"
   ]
  },
  {
   "cell_type": "code",
   "execution_count": 6,
   "metadata": {
    "id": "dzNoP3o__qRG"
   },
   "outputs": [],
   "source": [
    "import matplotlib.pyplot as plt\n",
    "import seaborn as sns\n",
    "import pandas as pd\n",
    "import numpy as np"
   ]
  },
  {
   "cell_type": "markdown",
   "metadata": {
    "id": "Ct8pI1uE_qRG"
   },
   "source": [
    "### Problems\n",
    "\n",
    "Use the prompts below to get started with your data analysis.  \n",
    "\n",
    "1. Read in the `coupons.csv` file.\n",
    "\n",
    "\n"
   ]
  },
  {
   "cell_type": "code",
   "execution_count": 9,
   "metadata": {
    "id": "X0vbffYg_qRH"
   },
   "outputs": [],
   "source": [
    "data = pd.read_csv('data/coupons.csv')"
   ]
  },
  {
   "cell_type": "code",
   "execution_count": 11,
   "metadata": {
    "id": "TXofQ_DF_qRH",
    "outputId": "2fc96a2c-1112-4b54-f24f-dbb9bc88abfb"
   },
   "outputs": [
    {
     "data": {
      "text/html": [
       "<div>\n",
       "<style scoped>\n",
       "    .dataframe tbody tr th:only-of-type {\n",
       "        vertical-align: middle;\n",
       "    }\n",
       "\n",
       "    .dataframe tbody tr th {\n",
       "        vertical-align: top;\n",
       "    }\n",
       "\n",
       "    .dataframe thead th {\n",
       "        text-align: right;\n",
       "    }\n",
       "</style>\n",
       "<table border=\"1\" class=\"dataframe\">\n",
       "  <thead>\n",
       "    <tr style=\"text-align: right;\">\n",
       "      <th></th>\n",
       "      <th>destination</th>\n",
       "      <th>passanger</th>\n",
       "      <th>weather</th>\n",
       "      <th>temperature</th>\n",
       "      <th>time</th>\n",
       "      <th>coupon</th>\n",
       "      <th>expiration</th>\n",
       "      <th>gender</th>\n",
       "      <th>age</th>\n",
       "      <th>maritalStatus</th>\n",
       "      <th>...</th>\n",
       "      <th>CoffeeHouse</th>\n",
       "      <th>CarryAway</th>\n",
       "      <th>RestaurantLessThan20</th>\n",
       "      <th>Restaurant20To50</th>\n",
       "      <th>toCoupon_GEQ5min</th>\n",
       "      <th>toCoupon_GEQ15min</th>\n",
       "      <th>toCoupon_GEQ25min</th>\n",
       "      <th>direction_same</th>\n",
       "      <th>direction_opp</th>\n",
       "      <th>Y</th>\n",
       "    </tr>\n",
       "  </thead>\n",
       "  <tbody>\n",
       "    <tr>\n",
       "      <th>0</th>\n",
       "      <td>No Urgent Place</td>\n",
       "      <td>Alone</td>\n",
       "      <td>Sunny</td>\n",
       "      <td>55</td>\n",
       "      <td>2PM</td>\n",
       "      <td>Restaurant(&lt;20)</td>\n",
       "      <td>1d</td>\n",
       "      <td>Female</td>\n",
       "      <td>21</td>\n",
       "      <td>Unmarried partner</td>\n",
       "      <td>...</td>\n",
       "      <td>never</td>\n",
       "      <td>NaN</td>\n",
       "      <td>4~8</td>\n",
       "      <td>1~3</td>\n",
       "      <td>1</td>\n",
       "      <td>0</td>\n",
       "      <td>0</td>\n",
       "      <td>0</td>\n",
       "      <td>1</td>\n",
       "      <td>1</td>\n",
       "    </tr>\n",
       "    <tr>\n",
       "      <th>1</th>\n",
       "      <td>No Urgent Place</td>\n",
       "      <td>Friend(s)</td>\n",
       "      <td>Sunny</td>\n",
       "      <td>80</td>\n",
       "      <td>10AM</td>\n",
       "      <td>Coffee House</td>\n",
       "      <td>2h</td>\n",
       "      <td>Female</td>\n",
       "      <td>21</td>\n",
       "      <td>Unmarried partner</td>\n",
       "      <td>...</td>\n",
       "      <td>never</td>\n",
       "      <td>NaN</td>\n",
       "      <td>4~8</td>\n",
       "      <td>1~3</td>\n",
       "      <td>1</td>\n",
       "      <td>0</td>\n",
       "      <td>0</td>\n",
       "      <td>0</td>\n",
       "      <td>1</td>\n",
       "      <td>0</td>\n",
       "    </tr>\n",
       "    <tr>\n",
       "      <th>2</th>\n",
       "      <td>No Urgent Place</td>\n",
       "      <td>Friend(s)</td>\n",
       "      <td>Sunny</td>\n",
       "      <td>80</td>\n",
       "      <td>10AM</td>\n",
       "      <td>Carry out &amp; Take away</td>\n",
       "      <td>2h</td>\n",
       "      <td>Female</td>\n",
       "      <td>21</td>\n",
       "      <td>Unmarried partner</td>\n",
       "      <td>...</td>\n",
       "      <td>never</td>\n",
       "      <td>NaN</td>\n",
       "      <td>4~8</td>\n",
       "      <td>1~3</td>\n",
       "      <td>1</td>\n",
       "      <td>1</td>\n",
       "      <td>0</td>\n",
       "      <td>0</td>\n",
       "      <td>1</td>\n",
       "      <td>1</td>\n",
       "    </tr>\n",
       "    <tr>\n",
       "      <th>3</th>\n",
       "      <td>No Urgent Place</td>\n",
       "      <td>Friend(s)</td>\n",
       "      <td>Sunny</td>\n",
       "      <td>80</td>\n",
       "      <td>2PM</td>\n",
       "      <td>Coffee House</td>\n",
       "      <td>2h</td>\n",
       "      <td>Female</td>\n",
       "      <td>21</td>\n",
       "      <td>Unmarried partner</td>\n",
       "      <td>...</td>\n",
       "      <td>never</td>\n",
       "      <td>NaN</td>\n",
       "      <td>4~8</td>\n",
       "      <td>1~3</td>\n",
       "      <td>1</td>\n",
       "      <td>1</td>\n",
       "      <td>0</td>\n",
       "      <td>0</td>\n",
       "      <td>1</td>\n",
       "      <td>0</td>\n",
       "    </tr>\n",
       "    <tr>\n",
       "      <th>4</th>\n",
       "      <td>No Urgent Place</td>\n",
       "      <td>Friend(s)</td>\n",
       "      <td>Sunny</td>\n",
       "      <td>80</td>\n",
       "      <td>2PM</td>\n",
       "      <td>Coffee House</td>\n",
       "      <td>1d</td>\n",
       "      <td>Female</td>\n",
       "      <td>21</td>\n",
       "      <td>Unmarried partner</td>\n",
       "      <td>...</td>\n",
       "      <td>never</td>\n",
       "      <td>NaN</td>\n",
       "      <td>4~8</td>\n",
       "      <td>1~3</td>\n",
       "      <td>1</td>\n",
       "      <td>1</td>\n",
       "      <td>0</td>\n",
       "      <td>0</td>\n",
       "      <td>1</td>\n",
       "      <td>0</td>\n",
       "    </tr>\n",
       "  </tbody>\n",
       "</table>\n",
       "<p>5 rows × 26 columns</p>\n",
       "</div>"
      ],
      "text/plain": [
       "       destination  passanger weather  temperature  time  \\\n",
       "0  No Urgent Place      Alone   Sunny           55   2PM   \n",
       "1  No Urgent Place  Friend(s)   Sunny           80  10AM   \n",
       "2  No Urgent Place  Friend(s)   Sunny           80  10AM   \n",
       "3  No Urgent Place  Friend(s)   Sunny           80   2PM   \n",
       "4  No Urgent Place  Friend(s)   Sunny           80   2PM   \n",
       "\n",
       "                  coupon expiration  gender age      maritalStatus  ...  \\\n",
       "0        Restaurant(<20)         1d  Female  21  Unmarried partner  ...   \n",
       "1           Coffee House         2h  Female  21  Unmarried partner  ...   \n",
       "2  Carry out & Take away         2h  Female  21  Unmarried partner  ...   \n",
       "3           Coffee House         2h  Female  21  Unmarried partner  ...   \n",
       "4           Coffee House         1d  Female  21  Unmarried partner  ...   \n",
       "\n",
       "   CoffeeHouse CarryAway RestaurantLessThan20 Restaurant20To50  \\\n",
       "0        never       NaN                  4~8              1~3   \n",
       "1        never       NaN                  4~8              1~3   \n",
       "2        never       NaN                  4~8              1~3   \n",
       "3        never       NaN                  4~8              1~3   \n",
       "4        never       NaN                  4~8              1~3   \n",
       "\n",
       "  toCoupon_GEQ5min toCoupon_GEQ15min toCoupon_GEQ25min direction_same  \\\n",
       "0                1                 0                 0              0   \n",
       "1                1                 0                 0              0   \n",
       "2                1                 1                 0              0   \n",
       "3                1                 1                 0              0   \n",
       "4                1                 1                 0              0   \n",
       "\n",
       "  direction_opp  Y  \n",
       "0             1  1  \n",
       "1             1  0  \n",
       "2             1  1  \n",
       "3             1  0  \n",
       "4             1  0  \n",
       "\n",
       "[5 rows x 26 columns]"
      ]
     },
     "execution_count": 11,
     "metadata": {},
     "output_type": "execute_result"
    }
   ],
   "source": [
    "data.head()"
   ]
  },
  {
   "cell_type": "markdown",
   "metadata": {
    "id": "GcDs78ZH_qRH"
   },
   "source": [
    "2. Investigate the dataset for missing or problematic data.\n",
    "3. Decide what to do about your missing data -- drop, replace, other..."
   ]
  },
  {
   "cell_type": "markdown",
   "metadata": {
    "id": "GcDs78ZH_qRH"
   },
   "source": [
    "Import missing Python Libraries"
   ]
  },
  {
   "cell_type": "code",
   "execution_count": 15,
   "metadata": {},
   "outputs": [],
   "source": [
    "import plotly.express as px"
   ]
  },
  {
   "cell_type": "markdown",
   "metadata": {
    "id": "GcDs78ZH_qRH"
   },
   "source": [
    "### Eliminate Duplicates\n",
    "\n",
    "One can check for duplicates by comparing the shapes of the DataFrame before and after removing duplicates.\n",
    "**74 duplicates are found.**"
   ]
  },
  {
   "cell_type": "code",
   "execution_count": 18,
   "metadata": {
    "id": "6CwL6oWj_qRH"
   },
   "outputs": [
    {
     "name": "stdout",
     "output_type": "stream",
     "text": [
      "<class 'pandas.core.frame.DataFrame'>\n",
      "RangeIndex: 12684 entries, 0 to 12683\n",
      "Data columns (total 26 columns):\n",
      " #   Column                Non-Null Count  Dtype \n",
      "---  ------                --------------  ----- \n",
      " 0   destination           12684 non-null  object\n",
      " 1   passanger             12684 non-null  object\n",
      " 2   weather               12684 non-null  object\n",
      " 3   temperature           12684 non-null  int64 \n",
      " 4   time                  12684 non-null  object\n",
      " 5   coupon                12684 non-null  object\n",
      " 6   expiration            12684 non-null  object\n",
      " 7   gender                12684 non-null  object\n",
      " 8   age                   12684 non-null  object\n",
      " 9   maritalStatus         12684 non-null  object\n",
      " 10  has_children          12684 non-null  int64 \n",
      " 11  education             12684 non-null  object\n",
      " 12  occupation            12684 non-null  object\n",
      " 13  income                12684 non-null  object\n",
      " 14  car                   108 non-null    object\n",
      " 15  Bar                   12577 non-null  object\n",
      " 16  CoffeeHouse           12467 non-null  object\n",
      " 17  CarryAway             12533 non-null  object\n",
      " 18  RestaurantLessThan20  12554 non-null  object\n",
      " 19  Restaurant20To50      12495 non-null  object\n",
      " 20  toCoupon_GEQ5min      12684 non-null  int64 \n",
      " 21  toCoupon_GEQ15min     12684 non-null  int64 \n",
      " 22  toCoupon_GEQ25min     12684 non-null  int64 \n",
      " 23  direction_same        12684 non-null  int64 \n",
      " 24  direction_opp         12684 non-null  int64 \n",
      " 25  Y                     12684 non-null  int64 \n",
      "dtypes: int64(8), object(18)\n",
      "memory usage: 2.5+ MB\n"
     ]
    },
    {
     "data": {
      "text/html": [
       "<div>\n",
       "<style scoped>\n",
       "    .dataframe tbody tr th:only-of-type {\n",
       "        vertical-align: middle;\n",
       "    }\n",
       "\n",
       "    .dataframe tbody tr th {\n",
       "        vertical-align: top;\n",
       "    }\n",
       "\n",
       "    .dataframe thead th {\n",
       "        text-align: right;\n",
       "    }\n",
       "</style>\n",
       "<table border=\"1\" class=\"dataframe\">\n",
       "  <thead>\n",
       "    <tr style=\"text-align: right;\">\n",
       "      <th></th>\n",
       "      <th>temperature</th>\n",
       "      <th>has_children</th>\n",
       "      <th>toCoupon_GEQ5min</th>\n",
       "      <th>toCoupon_GEQ15min</th>\n",
       "      <th>toCoupon_GEQ25min</th>\n",
       "      <th>direction_same</th>\n",
       "      <th>direction_opp</th>\n",
       "      <th>Y</th>\n",
       "    </tr>\n",
       "  </thead>\n",
       "  <tbody>\n",
       "    <tr>\n",
       "      <th>count</th>\n",
       "      <td>12684.000000</td>\n",
       "      <td>12684.000000</td>\n",
       "      <td>12684.0</td>\n",
       "      <td>12684.000000</td>\n",
       "      <td>12684.000000</td>\n",
       "      <td>12684.000000</td>\n",
       "      <td>12684.000000</td>\n",
       "      <td>12684.000000</td>\n",
       "    </tr>\n",
       "    <tr>\n",
       "      <th>mean</th>\n",
       "      <td>63.301798</td>\n",
       "      <td>0.414144</td>\n",
       "      <td>1.0</td>\n",
       "      <td>0.561495</td>\n",
       "      <td>0.119126</td>\n",
       "      <td>0.214759</td>\n",
       "      <td>0.785241</td>\n",
       "      <td>0.568433</td>\n",
       "    </tr>\n",
       "    <tr>\n",
       "      <th>std</th>\n",
       "      <td>19.154486</td>\n",
       "      <td>0.492593</td>\n",
       "      <td>0.0</td>\n",
       "      <td>0.496224</td>\n",
       "      <td>0.323950</td>\n",
       "      <td>0.410671</td>\n",
       "      <td>0.410671</td>\n",
       "      <td>0.495314</td>\n",
       "    </tr>\n",
       "    <tr>\n",
       "      <th>min</th>\n",
       "      <td>30.000000</td>\n",
       "      <td>0.000000</td>\n",
       "      <td>1.0</td>\n",
       "      <td>0.000000</td>\n",
       "      <td>0.000000</td>\n",
       "      <td>0.000000</td>\n",
       "      <td>0.000000</td>\n",
       "      <td>0.000000</td>\n",
       "    </tr>\n",
       "    <tr>\n",
       "      <th>25%</th>\n",
       "      <td>55.000000</td>\n",
       "      <td>0.000000</td>\n",
       "      <td>1.0</td>\n",
       "      <td>0.000000</td>\n",
       "      <td>0.000000</td>\n",
       "      <td>0.000000</td>\n",
       "      <td>1.000000</td>\n",
       "      <td>0.000000</td>\n",
       "    </tr>\n",
       "    <tr>\n",
       "      <th>50%</th>\n",
       "      <td>80.000000</td>\n",
       "      <td>0.000000</td>\n",
       "      <td>1.0</td>\n",
       "      <td>1.000000</td>\n",
       "      <td>0.000000</td>\n",
       "      <td>0.000000</td>\n",
       "      <td>1.000000</td>\n",
       "      <td>1.000000</td>\n",
       "    </tr>\n",
       "    <tr>\n",
       "      <th>75%</th>\n",
       "      <td>80.000000</td>\n",
       "      <td>1.000000</td>\n",
       "      <td>1.0</td>\n",
       "      <td>1.000000</td>\n",
       "      <td>0.000000</td>\n",
       "      <td>0.000000</td>\n",
       "      <td>1.000000</td>\n",
       "      <td>1.000000</td>\n",
       "    </tr>\n",
       "    <tr>\n",
       "      <th>max</th>\n",
       "      <td>80.000000</td>\n",
       "      <td>1.000000</td>\n",
       "      <td>1.0</td>\n",
       "      <td>1.000000</td>\n",
       "      <td>1.000000</td>\n",
       "      <td>1.000000</td>\n",
       "      <td>1.000000</td>\n",
       "      <td>1.000000</td>\n",
       "    </tr>\n",
       "  </tbody>\n",
       "</table>\n",
       "</div>"
      ],
      "text/plain": [
       "        temperature  has_children  toCoupon_GEQ5min  toCoupon_GEQ15min  \\\n",
       "count  12684.000000  12684.000000           12684.0       12684.000000   \n",
       "mean      63.301798      0.414144               1.0           0.561495   \n",
       "std       19.154486      0.492593               0.0           0.496224   \n",
       "min       30.000000      0.000000               1.0           0.000000   \n",
       "25%       55.000000      0.000000               1.0           0.000000   \n",
       "50%       80.000000      0.000000               1.0           1.000000   \n",
       "75%       80.000000      1.000000               1.0           1.000000   \n",
       "max       80.000000      1.000000               1.0           1.000000   \n",
       "\n",
       "       toCoupon_GEQ25min  direction_same  direction_opp             Y  \n",
       "count       12684.000000    12684.000000   12684.000000  12684.000000  \n",
       "mean            0.119126        0.214759       0.785241      0.568433  \n",
       "std             0.323950        0.410671       0.410671      0.495314  \n",
       "min             0.000000        0.000000       0.000000      0.000000  \n",
       "25%             0.000000        0.000000       1.000000      0.000000  \n",
       "50%             0.000000        0.000000       1.000000      1.000000  \n",
       "75%             0.000000        0.000000       1.000000      1.000000  \n",
       "max             1.000000        1.000000       1.000000      1.000000  "
      ]
     },
     "execution_count": 18,
     "metadata": {},
     "output_type": "execute_result"
    }
   ],
   "source": [
    "data.info()\n",
    "data.describe()"
   ]
  },
  {
   "cell_type": "code",
   "execution_count": 20,
   "metadata": {},
   "outputs": [
    {
     "name": "stdout",
     "output_type": "stream",
     "text": [
      "Before removing duplicates: (12684, 26)\n"
     ]
    }
   ],
   "source": [
    "print(\"Before removing duplicates:\", data.shape)"
   ]
  },
  {
   "cell_type": "code",
   "execution_count": 22,
   "metadata": {},
   "outputs": [
    {
     "name": "stdout",
     "output_type": "stream",
     "text": [
      "After removing duplicates: (12610, 26)\n"
     ]
    }
   ],
   "source": [
    "#remove duplicates\n",
    "clean_data = data.drop_duplicates()\n",
    "print(\"After removing duplicates:\", clean_data.shape)"
   ]
  },
  {
   "cell_type": "markdown",
   "metadata": {
    "id": "bSdVSpYB_qRH"
   },
   "source": [
    "### Checking for missing values.\n",
    "\n",
    "There are missing values in the DataFrame for 6 columns. The 'car' column is specially problematic.\n",
    "Need to review the values used on these 6 columns and decide next steps"
   ]
  },
  {
   "cell_type": "code",
   "execution_count": 25,
   "metadata": {},
   "outputs": [
    {
     "name": "stdout",
     "output_type": "stream",
     "text": [
      "destination                 0\n",
      "direction_same              0\n",
      "toCoupon_GEQ25min           0\n",
      "toCoupon_GEQ15min           0\n",
      "toCoupon_GEQ5min            0\n",
      "income                      0\n",
      "direction_opp               0\n",
      "education                   0\n",
      "has_children                0\n",
      "occupation                  0\n",
      "age                         0\n",
      "gender                      0\n",
      "expiration                  0\n",
      "coupon                      0\n",
      "time                        0\n",
      "temperature                 0\n",
      "weather                     0\n",
      "passanger                   0\n",
      "maritalStatus               0\n",
      "Y                           0\n",
      "Bar                       107\n",
      "RestaurantLessThan20      129\n",
      "CarryAway                 150\n",
      "Restaurant20To50          189\n",
      "CoffeeHouse               217\n",
      "car                     12502\n",
      "dtype: int64\n"
     ]
    }
   ],
   "source": [
    "missing_counts = clean_data.isnull().sum().sort_values()\n",
    "print(missing_counts)"
   ]
  },
  {
   "cell_type": "code",
   "execution_count": 27,
   "metadata": {},
   "outputs": [
    {
     "name": "stdout",
     "output_type": "stream",
     "text": [
      "List of Columns Review  \n",
      " destination             False\n",
      "passanger               False\n",
      "weather                 False\n",
      "temperature             False\n",
      "time                    False\n",
      "coupon                  False\n",
      "expiration              False\n",
      "gender                  False\n",
      "age                     False\n",
      "maritalStatus           False\n",
      "has_children            False\n",
      "education               False\n",
      "occupation              False\n",
      "income                  False\n",
      "car                      True\n",
      "Bar                      True\n",
      "CoffeeHouse              True\n",
      "CarryAway                True\n",
      "RestaurantLessThan20     True\n",
      "Restaurant20To50         True\n",
      "toCoupon_GEQ5min        False\n",
      "toCoupon_GEQ15min       False\n",
      "toCoupon_GEQ25min       False\n",
      "direction_same          False\n",
      "direction_opp           False\n",
      "Y                       False\n",
      "dtype: bool \n",
      "\n",
      "List of Columns Missing Data  \n",
      " ['car', 'Bar', 'CoffeeHouse', 'CarryAway', 'RestaurantLessThan20', 'Restaurant20To50'] \n",
      "\n",
      "Values for  car\n",
      "[nan 'Scooter and motorcycle' 'crossover' 'Mazda5' 'do not drive'\n",
      " 'Car that is too old to install Onstar :D']\n",
      "\n",
      "Values for  Bar\n",
      "['never' 'less1' '1~3' 'gt8' nan '4~8']\n",
      "\n",
      "Values for  CoffeeHouse\n",
      "['never' 'less1' '4~8' '1~3' 'gt8' nan]\n",
      "\n",
      "Values for  CarryAway\n",
      "[nan '4~8' '1~3' 'gt8' 'less1' 'never']\n",
      "\n",
      "Values for  RestaurantLessThan20\n",
      "['4~8' '1~3' 'less1' 'gt8' nan 'never']\n",
      "\n",
      "Values for  Restaurant20To50\n",
      "['1~3' 'less1' 'never' 'gt8' '4~8' nan]\n",
      "\n"
     ]
    }
   ],
   "source": [
    "# List the columns with null data to allow further review\n",
    "missingval_columns = clean_data.isnull().any(axis=0)\n",
    "print(\"List of Columns Review \",'\\n',missingval_columns,'\\n')\n",
    "missingval_columns_list = missingval_columns[missingval_columns].index.tolist()\n",
    "print(\"List of Columns Missing Data \",'\\n',missingval_columns_list,'\\n')\n",
    "# Review the values available for each column missing values\n",
    "for column in missingval_columns_list:\n",
    "    print(\"Values for \",column)\n",
    "    print(clean_data[column].unique())\n",
    "    print()"
   ]
  },
  {
   "cell_type": "markdown",
   "metadata": {
    "id": "bSdVSpYB_qRH"
   },
   "source": [
    "**Drop the 'car' column**\n",
    "\n",
    "The missing car values is impacting 12502 rows out of a total of 12610, there is not enough valid data available on this column to drive any analysis so we'll drop it"
   ]
  },
  {
   "cell_type": "code",
   "execution_count": 30,
   "metadata": {
    "id": "tyvoAC5F_qRI"
   },
   "outputs": [],
   "source": [
    "clean_data = clean_data.drop('car', axis=1)"
   ]
  },
  {
   "cell_type": "code",
   "execution_count": 32,
   "metadata": {},
   "outputs": [
    {
     "name": "stdout",
     "output_type": "stream",
     "text": [
      "<class 'pandas.core.frame.DataFrame'>\n",
      "Index: 12610 entries, 0 to 12683\n",
      "Data columns (total 25 columns):\n",
      " #   Column                Non-Null Count  Dtype \n",
      "---  ------                --------------  ----- \n",
      " 0   destination           12610 non-null  object\n",
      " 1   passanger             12610 non-null  object\n",
      " 2   weather               12610 non-null  object\n",
      " 3   temperature           12610 non-null  int64 \n",
      " 4   time                  12610 non-null  object\n",
      " 5   coupon                12610 non-null  object\n",
      " 6   expiration            12610 non-null  object\n",
      " 7   gender                12610 non-null  object\n",
      " 8   age                   12610 non-null  object\n",
      " 9   maritalStatus         12610 non-null  object\n",
      " 10  has_children          12610 non-null  int64 \n",
      " 11  education             12610 non-null  object\n",
      " 12  occupation            12610 non-null  object\n",
      " 13  income                12610 non-null  object\n",
      " 14  Bar                   12503 non-null  object\n",
      " 15  CoffeeHouse           12393 non-null  object\n",
      " 16  CarryAway             12460 non-null  object\n",
      " 17  RestaurantLessThan20  12481 non-null  object\n",
      " 18  Restaurant20To50      12421 non-null  object\n",
      " 19  toCoupon_GEQ5min      12610 non-null  int64 \n",
      " 20  toCoupon_GEQ15min     12610 non-null  int64 \n",
      " 21  toCoupon_GEQ25min     12610 non-null  int64 \n",
      " 22  direction_same        12610 non-null  int64 \n",
      " 23  direction_opp         12610 non-null  int64 \n",
      " 24  Y                     12610 non-null  int64 \n",
      "dtypes: int64(8), object(17)\n",
      "memory usage: 2.5+ MB\n"
     ]
    }
   ],
   "source": [
    "clean_data.info()"
   ]
  },
  {
   "cell_type": "markdown",
   "metadata": {},
   "source": [
    "**Remove rows with Null values**\n",
    "\n",
    "After removing the car column, we can now proceed to remove the rows with null values"
   ]
  },
  {
   "cell_type": "code",
   "execution_count": 35,
   "metadata": {},
   "outputs": [],
   "source": [
    "clean_data=clean_data.dropna()"
   ]
  },
  {
   "cell_type": "code",
   "execution_count": 37,
   "metadata": {},
   "outputs": [
    {
     "name": "stdout",
     "output_type": "stream",
     "text": [
      "destination             0\n",
      "direction_same          0\n",
      "toCoupon_GEQ25min       0\n",
      "toCoupon_GEQ15min       0\n",
      "toCoupon_GEQ5min        0\n",
      "Restaurant20To50        0\n",
      "RestaurantLessThan20    0\n",
      "CarryAway               0\n",
      "CoffeeHouse             0\n",
      "Bar                     0\n",
      "income                  0\n",
      "direction_opp           0\n",
      "occupation              0\n",
      "has_children            0\n",
      "maritalStatus           0\n",
      "age                     0\n",
      "gender                  0\n",
      "expiration              0\n",
      "coupon                  0\n",
      "time                    0\n",
      "temperature             0\n",
      "weather                 0\n",
      "passanger               0\n",
      "education               0\n",
      "Y                       0\n",
      "dtype: int64\n"
     ]
    }
   ],
   "source": [
    "#Verify we have no more missing values on our clean_data\n",
    "missing_counts = clean_data.isnull().sum().sort_values()\n",
    "print(missing_counts)"
   ]
  },
  {
   "cell_type": "code",
   "execution_count": 39,
   "metadata": {},
   "outputs": [
    {
     "name": "stdout",
     "output_type": "stream",
     "text": [
      "<class 'pandas.core.frame.DataFrame'>\n",
      "Index: 12007 entries, 22 to 12683\n",
      "Data columns (total 25 columns):\n",
      " #   Column                Non-Null Count  Dtype \n",
      "---  ------                --------------  ----- \n",
      " 0   destination           12007 non-null  object\n",
      " 1   passanger             12007 non-null  object\n",
      " 2   weather               12007 non-null  object\n",
      " 3   temperature           12007 non-null  int64 \n",
      " 4   time                  12007 non-null  object\n",
      " 5   coupon                12007 non-null  object\n",
      " 6   expiration            12007 non-null  object\n",
      " 7   gender                12007 non-null  object\n",
      " 8   age                   12007 non-null  object\n",
      " 9   maritalStatus         12007 non-null  object\n",
      " 10  has_children          12007 non-null  int64 \n",
      " 11  education             12007 non-null  object\n",
      " 12  occupation            12007 non-null  object\n",
      " 13  income                12007 non-null  object\n",
      " 14  Bar                   12007 non-null  object\n",
      " 15  CoffeeHouse           12007 non-null  object\n",
      " 16  CarryAway             12007 non-null  object\n",
      " 17  RestaurantLessThan20  12007 non-null  object\n",
      " 18  Restaurant20To50      12007 non-null  object\n",
      " 19  toCoupon_GEQ5min      12007 non-null  int64 \n",
      " 20  toCoupon_GEQ15min     12007 non-null  int64 \n",
      " 21  toCoupon_GEQ25min     12007 non-null  int64 \n",
      " 22  direction_same        12007 non-null  int64 \n",
      " 23  direction_opp         12007 non-null  int64 \n",
      " 24  Y                     12007 non-null  int64 \n",
      "dtypes: int64(8), object(17)\n",
      "memory usage: 2.4+ MB\n"
     ]
    }
   ],
   "source": [
    "clean_data.info()"
   ]
  },
  {
   "cell_type": "markdown",
   "metadata": {},
   "source": [
    "### Structural Errors check\n",
    "We are now left with 12007 rows with no duplicates and no null values\n",
    "Now we proceed to check the values for the other columns looking for structural errors"
   ]
  },
  {
   "cell_type": "code",
   "execution_count": 42,
   "metadata": {},
   "outputs": [
    {
     "name": "stdout",
     "output_type": "stream",
     "text": [
      "Values for  destination\n",
      "destination\n",
      "No Urgent Place    5953\n",
      "Home               3078\n",
      "Work               2976\n",
      "Name: count, dtype: int64\n",
      "\n",
      "Values for  passanger\n",
      "passanger\n",
      "Alone        6914\n",
      "Friend(s)    3142\n",
      "Partner      1018\n",
      "Kid(s)        933\n",
      "Name: count, dtype: int64\n",
      "\n",
      "Values for  weather\n",
      "weather\n",
      "Sunny    9545\n",
      "Snowy    1323\n",
      "Rainy    1139\n",
      "Name: count, dtype: int64\n",
      "\n",
      "Values for  temperature\n",
      "temperature\n",
      "80    6171\n",
      "55    3652\n",
      "30    2184\n",
      "Name: count, dtype: int64\n",
      "\n",
      "Values for  time\n",
      "time\n",
      "6PM     3068\n",
      "7AM     2976\n",
      "10AM    2154\n",
      "2PM     1913\n",
      "10PM    1896\n",
      "Name: count, dtype: int64\n",
      "\n",
      "Values for  coupon\n",
      "coupon\n",
      "Coffee House             3809\n",
      "Restaurant(<20)          2646\n",
      "Carry out & Take away    2233\n",
      "Bar                      1906\n",
      "Restaurant(20-50)        1413\n",
      "Name: count, dtype: int64\n",
      "\n",
      "Values for  expiration\n",
      "expiration\n",
      "1d    6702\n",
      "2h    5305\n",
      "Name: count, dtype: int64\n",
      "\n",
      "Values for  gender\n",
      "gender\n",
      "Female    6158\n",
      "Male      5849\n",
      "Name: count, dtype: int64\n",
      "\n",
      "Values for  age\n",
      "age\n",
      "21         2526\n",
      "26         2388\n",
      "31         1906\n",
      "50plus     1725\n",
      "36         1251\n",
      "41         1061\n",
      "46          648\n",
      "below21     502\n",
      "Name: count, dtype: int64\n",
      "\n",
      "Values for  maritalStatus\n",
      "maritalStatus\n",
      "Married partner      4799\n",
      "Single               4554\n",
      "Unmarried partner    2047\n",
      "Divorced              499\n",
      "Widowed               108\n",
      "Name: count, dtype: int64\n",
      "\n",
      "Values for  has_children\n",
      "has_children\n",
      "0    7098\n",
      "1    4909\n",
      "Name: count, dtype: int64\n",
      "\n",
      "Values for  education\n",
      "education\n",
      "Some college - no degree                  4194\n",
      "Bachelors degree                          4010\n",
      "Graduate degree (Masters or Doctorate)    1783\n",
      "Associates degree                         1061\n",
      "High School Graduate                       871\n",
      "Some High School                            88\n",
      "Name: count, dtype: int64\n",
      "\n",
      "Values for  occupation\n",
      "occupation\n",
      "Unemployed                                   1805\n",
      "Student                                      1489\n",
      "Computer & Mathematical                      1350\n",
      "Sales & Related                              1067\n",
      "Education&Training&Library                    851\n",
      "Management                                    755\n",
      "Office & Administrative Support               616\n",
      "Arts Design Entertainment Sports & Media      562\n",
      "Business & Financial                          515\n",
      "Retired                                       471\n",
      "Food Preparation & Serving Related            276\n",
      "Healthcare Support                            242\n",
      "Healthcare Practitioners & Technical          222\n",
      "Legal                                         219\n",
      "Transportation & Material Moving              218\n",
      "Community & Social Services                   217\n",
      "Architecture & Engineering                    175\n",
      "Protective Service                            174\n",
      "Life Physical Social Science                  169\n",
      "Construction & Extraction                     154\n",
      "Personal Care & Service                       153\n",
      "Installation Maintenance & Repair             133\n",
      "Production Occupations                         87\n",
      "Building & Grounds Cleaning & Maintenance      44\n",
      "Farming Fishing & Forestry                     43\n",
      "Name: count, dtype: int64\n",
      "\n",
      "Values for  income\n",
      "income\n",
      "$25000 - $37499     1912\n",
      "$12500 - $24999     1722\n",
      "$37500 - $49999     1680\n",
      "$100000 or More     1673\n",
      "$50000 - $62499     1561\n",
      "Less than $12500    1006\n",
      "$62500 - $74999      837\n",
      "$75000 - $87499      813\n",
      "$87500 - $99999      803\n",
      "Name: count, dtype: int64\n",
      "\n",
      "Values for  toCoupon_GEQ5min\n",
      "toCoupon_GEQ5min\n",
      "1    12007\n",
      "Name: count, dtype: int64\n",
      "\n",
      "Values for  toCoupon_GEQ15min\n",
      "toCoupon_GEQ15min\n",
      "1    6718\n",
      "0    5289\n",
      "Name: count, dtype: int64\n",
      "\n",
      "Values for  toCoupon_GEQ25min\n",
      "toCoupon_GEQ25min\n",
      "0    10611\n",
      "1     1396\n",
      "Name: count, dtype: int64\n",
      "\n",
      "Values for  direction_same\n",
      "direction_same\n",
      "0    9414\n",
      "1    2593\n",
      "Name: count, dtype: int64\n",
      "\n",
      "Values for  direction_opp\n",
      "direction_opp\n",
      "1    9414\n",
      "0    2593\n",
      "Name: count, dtype: int64\n",
      "\n",
      "Values for  Y\n",
      "Y\n",
      "1    6825\n",
      "0    5182\n",
      "Name: count, dtype: int64\n",
      "\n"
     ]
    }
   ],
   "source": [
    "all_columns_list = missingval_columns.index.tolist()\n",
    "\n",
    "#Review the values available for each good column\n",
    "for column in all_columns_list:\n",
    "    if column not in missingval_columns_list:\n",
    "        print(\"Values for \",column)\n",
    "        print(clean_data[column].value_counts())\n",
    "        print()"
   ]
  },
  {
   "cell_type": "markdown",
   "metadata": {
    "id": "YE6oJbXd_qRI"
   },
   "source": [
    "4. What proportion of the total observations chose to accept the coupon?\n",
    "\n"
   ]
  },
  {
   "cell_type": "code",
   "execution_count": 45,
   "metadata": {
    "id": "86GGqBTv_qRI"
   },
   "outputs": [
    {
     "name": "stdout",
     "output_type": "stream",
     "text": [
      "The proportion of accepted coupons is:  56.84 %\n"
     ]
    }
   ],
   "source": [
    "accepted_coupons_count = clean_data['Y'].value_counts()[1]\n",
    "total_coupons_issued = clean_data['Y'].value_counts().sum()\n",
    "prop_accepted_coupons = (accepted_coupons_count / total_coupons_issued)*100\n",
    "print(\"The proportion of accepted coupons is: \",prop_accepted_coupons.round(2),\"%\")"
   ]
  },
  {
   "cell_type": "markdown",
   "metadata": {
    "id": "vflz0DoE_qRI"
   },
   "source": [
    "5. Use a bar plot to visualize the `coupon` column."
   ]
  },
  {
   "cell_type": "code",
   "execution_count": 47,
   "metadata": {
    "id": "dHFh3E45_qRI"
   },
   "outputs": [
    {
     "data": {
      "image/png": "[encoded data removed]",
      "text/plain": [
       "<Figure size 1000x600 with 1 Axes>"
      ]
     },
     "metadata": {},
     "output_type": "display_data"
    }
   ],
   "source": [
    "# Added \"Accepted\" column based on \"Y\" columns from 1 to Yes and from 0 to No\n",
    "# This will help the diagrams read a lot easier\n",
    "clean_data.loc[:,\"Accepted\"]=np.where((clean_data['Y'] == 1),'Yes','No')\n",
    "\n",
    "plt.figure(figsize=(10, 6))\n",
    "sns.countplot(x='coupon', hue='Accepted', data=clean_data)\n",
    "plt.title(f'Distribution of Accepted Coupons by Type')\n",
    "plt.xticks(rotation=45)\n",
    "plt.tight_layout()\n",
    "plt.show()"
   ]
  },
  {
   "cell_type": "markdown",
   "metadata": {
    "id": "Qw4lCyx2_qRI"
   },
   "source": [
    "6. Use a histogram to visualize the temperature column."
   ]
  },
  {
   "cell_type": "code",
   "execution_count": 50,
   "metadata": {
    "id": "Yg9Anv71_qRI"
   },
   "outputs": [
    {
     "data": {
      "image/png": "[encoded data removed]",
      "text/plain": [
       "<Figure size 640x480 with 1 Axes>"
      ]
     },
     "metadata": {},
     "output_type": "display_data"
    }
   ],
   "source": [
    "sns.histplot(clean_data, x='temperature', hue='Accepted', binwidth=10, multiple=\"dodge\")\n",
    "plt.title(\"Distribution of Coupon Acceptance by Temperature\")\n",
    "plt.show()"
   ]
  },
  {
   "cell_type": "markdown",
   "metadata": {
    "id": "FupfgeJk_qRJ"
   },
   "source": [
    "**Investigating the Bar Coupons**\n",
    "\n",
    "Now, we will lead you through an exploration of just the bar related coupons.  \n",
    "\n",
    "1. Create a new `DataFrame` that contains just the bar coupons.\n"
   ]
  },
  {
   "cell_type": "code",
   "execution_count": 53,
   "metadata": {
    "id": "tMBlWuGq_qRJ"
   },
   "outputs": [
    {
     "name": "stdout",
     "output_type": "stream",
     "text": [
      "All coupons count:  \n",
      " coupon\n",
      "Coffee House             3809\n",
      "Restaurant(<20)          2646\n",
      "Carry out & Take away    2233\n",
      "Bar                      1906\n",
      "Restaurant(20-50)        1413\n",
      "Name: count, dtype: int64 \n",
      "\n",
      "Only Bar coupons distribution :  \n",
      " Accepted\n",
      "No     1121\n",
      "Yes     785\n",
      "Name: count, dtype: int64\n"
     ]
    }
   ],
   "source": [
    "print(\"All coupons count: \",\"\\n\",clean_data['coupon'].value_counts(),\"\\n\")\n",
    "coupons_bar_only = clean_data.query(\"coupon == 'Bar'\")\n",
    "print(\"Only Bar coupons distribution : \",\"\\n\",coupons_bar_only['Accepted'].value_counts())\n"
   ]
  },
  {
   "cell_type": "markdown",
   "metadata": {
    "id": "8ue6uCqf_qRJ"
   },
   "source": [
    "2. What proportion of bar coupons were accepted?\n"
   ]
  },
  {
   "cell_type": "code",
   "execution_count": 56,
   "metadata": {
    "id": "hSdte8Mi_qRK"
   },
   "outputs": [
    {
     "name": "stdout",
     "output_type": "stream",
     "text": [
      "The proportion of accepted BAR coupons is:  41.19 %\n"
     ]
    }
   ],
   "source": [
    "accepted_bar_coupons_count = coupons_bar_only['Y'].value_counts()[1]\n",
    "total_bar_coupons_issued = coupons_bar_only['Y'].value_counts().sum()\n",
    "prop_bar_accepted_coupons = (accepted_bar_coupons_count / total_bar_coupons_issued)*100\n",
    "print(\"The proportion of accepted BAR coupons is: \",prop_bar_accepted_coupons.round(2),\"%\")"
   ]
  },
  {
   "cell_type": "code",
   "execution_count": 58,
   "metadata": {},
   "outputs": [],
   "source": [
    "# Creating a function to calculate the ratio of acceptance for any given subsetted dataframe\n",
    "def ratio_of_acceptance(datafr):\n",
    "    if (datafr['Y'].value_counts().sum()) == 0:\n",
    "        return 0\n",
    "    else:\n",
    "        ratio = datafr['Y'].value_counts()[1] / datafr['Y'].value_counts().sum()\n",
    "        return ratio\n"
   ]
  },
  {
   "cell_type": "markdown",
   "metadata": {
    "id": "85nA_iEi_qRK"
   },
   "source": [
    "3. Compare the acceptance rate between those who went to a bar 3 or fewer times a month to those who went more.\n"
   ]
  },
  {
   "cell_type": "code",
   "execution_count": 61,
   "metadata": {
    "id": "LBOrN-XM_qRK"
   },
   "outputs": [
    {
     "name": "stdout",
     "output_type": "stream",
     "text": [
      "Total Bar Coupons Issued:  1906 \n",
      " Total Bar Coupons Accepted  785\n",
      "Distribution of Issued Bar Coupons by Frequency of Bar Visits: \n",
      " Bar\n",
      "never    788\n",
      "less1    546\n",
      "1~3      379\n",
      "4~8      147\n",
      "gt8       46\n",
      "Name: count, dtype: int64 \n",
      "\n",
      "Distribution of Accepted Bar Coupons by Frequency of Bar Visits: \n",
      " Bar\n",
      "1~3      245\n",
      "less1    244\n",
      "never    149\n",
      "4~8      114\n",
      "gt8       33\n",
      "Name: count, dtype: int64 \n",
      "\n",
      "Ratio of Accepted Bar Coupons by people with 3 or less visits: \n",
      " 37.24 %\n",
      "Ratio of Accepted Bar Coupons by people with OVER 3 visits: \n",
      " 76.17 %\n"
     ]
    }
   ],
   "source": [
    "# Analyze the general data for Bar coupons issued and accepted and the frequency categories\n",
    "bar_coupons_accepted = coupons_bar_only.query(\"Accepted == 'Yes'\")\n",
    "print (\"Total Bar Coupons Issued: \",total_bar_coupons_issued,\"\\n\",\"Total Bar Coupons Accepted \",accepted_bar_coupons_count)\n",
    "print(\"Distribution of Issued Bar Coupons by Frequency of Bar Visits: \\n\",coupons_bar_only['Bar'].value_counts(),\"\\n\")\n",
    "print(\"Distribution of Accepted Bar Coupons by Frequency of Bar Visits: \\n\",bar_coupons_accepted['Bar'].value_counts(),\"\\n\")\n",
    "\n",
    "# Create data subsets for each visit category\n",
    "three_or_less_visits_data = coupons_bar_only[coupons_bar_only['Bar'].isin(['never', 'less1', '1~3'])]\n",
    "over_three_visits_data = coupons_bar_only[coupons_bar_only['Bar'].isin(['4~8', 'gt8'])]\n",
    "print (\"Ratio of Accepted Bar Coupons by people with 3 or less visits: \\n\",((ratio_of_acceptance(three_or_less_visits_data))*100).round(2),\"%\")\n",
    "print (\"Ratio of Accepted Bar Coupons by people with OVER 3 visits: \\n\",((ratio_of_acceptance(over_three_visits_data))*100).round(2),\"%\")\n"
   ]
  },
  {
   "cell_type": "markdown",
   "metadata": {},
   "source": [
    "**The ratio indicates that drivers who visited the bar more than 3 times per week accepted the bar coupons 76% of the time while the rest only accepeted 37% of the time.**\n",
    "Note that the number of ISSUED coupons to drivers with less than 3 visits is 1713 as opposed to only 193 issued to the people with Over 3 visits."
   ]
  },
  {
   "cell_type": "markdown",
   "metadata": {
    "id": "RBgcQwH4_qRK"
   },
   "source": [
    "4. Compare the acceptance rate between drivers who go to a bar more than once a month and are over the age of 25 to the all others.  Is there a difference?\n"
   ]
  },
  {
   "cell_type": "code",
   "execution_count": 65,
   "metadata": {},
   "outputs": [
    {
     "name": "stdout",
     "output_type": "stream",
     "text": [
      "Coupons Bar only:  1906\n",
      "Ratio of Accepted Bar Coupons by Drivers OVER 25 years old who ALSO visit the Bar at least 1 per month: \n",
      " 68.98 %\n",
      "Ratio of Accepted Bar Coupons by all other drivers: \n",
      " 33.73 %\n"
     ]
    }
   ],
   "source": [
    "# Create 2 list of values to separate analysis\n",
    "monthly_or_more_visits = ['1~3', '4~8', 'gt8']\n",
    "above_25_years_old = ['26', '31', '36', '41', '46', '50plus']\n",
    "\n",
    "print(\"Coupons Bar only: \",coupons_bar_only['Y'].value_counts().sum())\n",
    "# Create subsetted dataframes and calucate Ratio using the function\n",
    "ovr25_monthly_data = coupons_bar_only[(coupons_bar_only['Bar'].isin(monthly_or_more_visits)) & (coupons_bar_only['age'].isin(above_25_years_old))]\n",
    "print (\"Ratio of Accepted Bar Coupons by Drivers OVER 25 years old who ALSO visit the Bar at least 1 per month: \\n\",((ratio_of_acceptance(ovr25_monthly_data))*100).round(2),\"%\")\n",
    "\n",
    "# The question asks for all the other drivers not included on the first category which could include drivers over 25 who never go to the bar, \n",
    "# this is different than asking for drivers below 25 who go to the bar less than once per month\n",
    "# the subset should include everyone else outside the first selection\n",
    "everyone_else_data = coupons_bar_only[~(coupons_bar_only['Bar'].isin(monthly_or_more_visits) & (coupons_bar_only['age'].isin(above_25_years_old)))]\n",
    "print (\"Ratio of Accepted Bar Coupons by all other drivers: \\n\",((ratio_of_acceptance(everyone_else_data))*100).round(2),\"%\")\n",
    "\n",
    "\n",
    "\n"
   ]
  },
  {
   "cell_type": "markdown",
   "metadata": {
    "id": "S4RKT4PJ_qRK"
   },
   "source": [
    "5. Use the same process to compare the acceptance rate between drivers who go to bars more than once a month and had passengers that were not a kid and had occupations other than farming, fishing, or forestry.\n"
   ]
  },
  {
   "cell_type": "code",
   "execution_count": 68,
   "metadata": {
    "id": "sENaI2Tg_qRK"
   },
   "outputs": [
    {
     "name": "stdout",
     "output_type": "stream",
     "text": [
      "Ratio of Accepted Bar Coupons by Drivers who visit the Bar more than once per month,\n",
      " who ALSO had passengers that were not a kid AND had occupations other than farming, fishing or forestry: \n",
      " 71.43 %\n",
      "Ratio of Accepted Bar Coupons by all other drivers: \n",
      " 37.86 %\n"
     ]
    }
   ],
   "source": [
    "# Create list of values to separate analysis\n",
    "monthly_or_more_visits = ['1~3', '4~8', 'gt8']\n",
    "no_kid_passengers = ['Friend(s)', 'Partner'] #Exclude both Kid(s) and Alone\n",
    "excluded_occupation = ['Farming Fishing & Forestry']\n",
    "\n",
    "# Create subsetted dataframes and calucate Ratio using the function\n",
    "selected_data = coupons_bar_only[(coupons_bar_only['Bar'].isin(monthly_or_more_visits)) & (coupons_bar_only['passanger'].isin(no_kid_passengers)) & (~coupons_bar_only['occupation'].isin(excluded_occupation))]\n",
    "print (\"Ratio of Accepted Bar Coupons by Drivers who visit the Bar more than once per month,\\n who ALSO had passengers that were not a kid AND had occupations other than farming, fishing or forestry: \\n\",((ratio_of_acceptance(selected_data))*100).round(2),\"%\")\n",
    "\n",
    "# this 2nd subset should include everyone else outside the first selection\n",
    "everyone_else_data = coupons_bar_only[~((coupons_bar_only['Bar'].isin(monthly_or_more_visits)) & (coupons_bar_only['passanger'].isin(no_kid_passengers)) & (~coupons_bar_only['occupation'].isin(excluded_occupation)))]\n",
    "print (\"Ratio of Accepted Bar Coupons by all other drivers: \\n\",((ratio_of_acceptance(everyone_else_data))*100).round(2),\"%\")\n"
   ]
  },
  {
   "cell_type": "markdown",
   "metadata": {
    "id": "n2LIUTil_qRK"
   },
   "source": [
    "6. Compare the acceptance rates between those drivers who:\n",
    "\n",
    "- go to bars more than once a month, had passengers that were not a kid, and were not widowed *OR*\n",
    "- go to bars more than once a month and are under the age of 30 *OR*\n",
    "- go to cheap restaurants more than 4 times a month and income is less than 50K.\n",
    "\n"
   ]
  },
  {
   "cell_type": "code",
   "execution_count": 71,
   "metadata": {
    "id": "aK_wEzx7_qRK"
   },
   "outputs": [
    {
     "name": "stdout",
     "output_type": "stream",
     "text": [
      "Ratio of Accepted Bar Coupons by Drivers who go to bars more than once a month, \n",
      " had passengers that were not a kid, and were not widowed  71.43 %\n",
      "Ratio of Accepted Bar Coupons by Drivers who go to bars more than once a month and are under the age of 30   71.95 %\n",
      "Ratio of Accepted Bar Coupons by Drivers who go to cheap restaurants more than 4 times a month and income is less than 50K   45.65 %\n"
     ]
    }
   ],
   "source": [
    "# Create list of values to separate analysis\n",
    "monthly_or_more_visits = ['1~3', '4~8', 'gt8']\n",
    "no_kid_passengers = ['Friend(s)', 'Partner'] #Exclude both Kid(s) and Alone\n",
    "under_30 = ['below21', '21', '26']\n",
    "cheap_restaurant_visits = ['4~8', 'gt8'] \n",
    "income_less_50 = ['Less than $12500', '$12500 - $24999', '$25000 - $37499', '$37500 - $49999']\n",
    "\n",
    "\n",
    "# Create subsetted dataframes and calucate Ratio using the function\n",
    "selected_data_1 = coupons_bar_only[(coupons_bar_only['Bar'].isin(monthly_or_more_visits)) & (coupons_bar_only['passanger'].isin(no_kid_passengers)) & (~coupons_bar_only['maritalStatus'].isin(['widowed'])) ]\n",
    "print (\"Ratio of Accepted Bar Coupons by Drivers who go to bars more than once a month, \\n had passengers that were not a kid, and were not widowed \",((ratio_of_acceptance(selected_data_1))*100).round(2),\"%\")\n",
    "\n",
    "selected_data_2 = coupons_bar_only[(coupons_bar_only['Bar'].isin(monthly_or_more_visits)) & (coupons_bar_only['age'].isin(under_30))]\n",
    "print (\"Ratio of Accepted Bar Coupons by Drivers who go to bars more than once a month and are under the age of 30  \",((ratio_of_acceptance(selected_data_2))*100).round(2),\"%\")\n",
    "\n",
    "selected_data_3 = coupons_bar_only[(coupons_bar_only['RestaurantLessThan20'].isin(cheap_restaurant_visits)) & (coupons_bar_only['income'].isin(income_less_50))]\n",
    "print (\"Ratio of Accepted Bar Coupons by Drivers who go to cheap restaurants more than 4 times a month and income is less than 50K  \",((ratio_of_acceptance(selected_data_3))*100).round(2),\"%\")\n"
   ]
  },
  {
   "cell_type": "markdown",
   "metadata": {
    "id": "v3fL3QkO_qRK"
   },
   "source": [
    "7.  Based on these observations, what do you hypothesize about drivers who accepted the bar coupons?"
   ]
  },
  {
   "cell_type": "markdown",
   "metadata": {
    "id": "Y48naDFh_qRL"
   },
   "source": [
    "It's clear that people who visit the bar more than once per month have a tendency to accept the bar coupons more than others, most ratios including this condition were around the 70% acceptance rate."
   ]
  },
  {
   "cell_type": "markdown",
   "metadata": {
    "id": "r4Hu1zOb_qRL"
   },
   "source": [
    "### Independent Investigation\n",
    "\n",
    "Using the bar coupon example as motivation, you are to explore one of the other coupon groups and try to determine the characteristics of passengers who accept the coupons.  "
   ]
  },
  {
   "cell_type": "markdown",
   "metadata": {
    "id": "0c71cQhu_qRL"
   },
   "source": [
    "### Coffee House coupons have a high acceptance rate based on the coupons Histogram of question 5 ###\n",
    "Will analyse trends among the coffee house coupons issued and accepted"
   ]
  },
  {
   "cell_type": "code",
   "execution_count": 102,
   "metadata": {
    "id": "fTC2WGE3_qRL"
   },
   "outputs": [
    {
     "name": "stdout",
     "output_type": "stream",
     "text": [
      "The proportion of accepted COFFEE coupons is:  49.57 %\n",
      "Total Coffee Coupons Issued:  3809 \n",
      " Total Coffee Coupons Accepted  1888\n",
      "Distribution of Issued Coffee Coupons by Frequency of Coffee House Visits: \n",
      " CoffeeHouse\n",
      "less1    1049\n",
      "1~3      1015\n",
      "never     896\n",
      "4~8       507\n",
      "gt8       342\n",
      "Name: count, dtype: int64 \n",
      "\n",
      "Distribution of Accepted Coffee Coupons by Frequency Coffee House Visits: \n",
      " CoffeeHouse\n",
      "1~3      657\n",
      "less1    503\n",
      "4~8      346\n",
      "gt8      225\n",
      "never    157\n",
      "Name: count, dtype: int64 \n",
      "\n",
      "Ratio of Accepted Coffee Coupons by people with 3 or less visits: \n",
      " 44.49 %\n",
      "Ratio of Accepted Coffee Coupons by people with OVER 3 visits: \n",
      " 67.26 %\n",
      "Ratio of Accepted Coffee Coupons by people under 30 years old: \n",
      " 52.86 %\n",
      "Ratio of Accepted Coffee Coupons by people over 30 years old: \n",
      " 46.67 %\n",
      "Ratio of Accepted Coffee Coupons by people with Income < 50K: \n",
      " 52.28 %\n",
      "Ratio of Accepted Coffee Coupons by people with Income >= 50K: \n",
      " 46.44 %\n"
     ]
    }
   ],
   "source": [
    "# Review coffee coupons acceptance proportions\n",
    "coupons_coffee_only = clean_data.query(\"coupon == 'Coffee House'\")\n",
    "accepted_coffee_coupons_count = coupons_coffee_only['Y'].value_counts()[1]\n",
    "total_coffee_coupons_issued = coupons_coffee_only['Y'].value_counts().sum()\n",
    "prop_coffee_accepted_coupons = (accepted_coffee_coupons_count / total_coffee_coupons_issued)*100\n",
    "print(\"The proportion of accepted COFFEE coupons is: \",prop_coffee_accepted_coupons.round(2),\"%\")\n",
    "\n",
    "# Analyze the general data for Coffee House coupons issued and accepted and the frequency categories\n",
    "coffee_coupons_accepted = coupons_coffee_only.query(\"Accepted == 'Yes'\")\n",
    "print (\"Total Coffee Coupons Issued: \",total_coffee_coupons_issued,\"\\n\",\"Total Coffee Coupons Accepted \",accepted_coffee_coupons_count)\n",
    "print(\"Distribution of Issued Coffee Coupons by Frequency of Coffee House Visits: \\n\",coupons_coffee_only['CoffeeHouse'].value_counts(),\"\\n\")\n",
    "print(\"Distribution of Accepted Coffee Coupons by Frequency Coffee House Visits: \\n\",coffee_coupons_accepted['CoffeeHouse'].value_counts(),\"\\n\")\n",
    "\n",
    "# Create data subsets for each visit category\n",
    "three_or_less_visits_data = coupons_coffee_only[coupons_coffee_only['CoffeeHouse'].isin(['never', 'less1', '1~3'])]\n",
    "over_three_visits_data = coupons_coffee_only[coupons_coffee_only['CoffeeHouse'].isin(['4~8', 'gt8'])]\n",
    "print (\"Ratio of Accepted Coffee Coupons by people with 3 or less visits: \\n\",((ratio_of_acceptance(three_or_less_visits_data))*100).round(2),\"%\")\n",
    "print (\"Ratio of Accepted Coffee Coupons by people with OVER 3 visits: \\n\",((ratio_of_acceptance(over_three_visits_data))*100).round(2),\"%\")\n",
    "\n",
    "# Create data subsets for age brackets\n",
    "under_30 = ['below21', '21', '26']\n",
    "under_30_data = coupons_coffee_only[coupons_coffee_only['age'].isin(under_30)]\n",
    "over_30_data = coupons_coffee_only[~(coupons_coffee_only['age'].isin(under_30))]\n",
    "print (\"Ratio of Accepted Coffee Coupons by people under 30 years old: \\n\",((ratio_of_acceptance(under_30_data))*100).round(2),\"%\")\n",
    "print (\"Ratio of Accepted Coffee Coupons by people over 30 years old: \\n\",((ratio_of_acceptance(over_30_data))*100).round(2),\"%\")\n",
    "\n",
    "#Create data subsets for Income brackets\n",
    "income_less_50 = ['Less than $12500', '$12500 - $24999', '$25000 - $37499', '$37500 - $49999']\n",
    "less_50K_data = coupons_coffee_only[coupons_coffee_only['income'].isin(income_less_50)]\n",
    "over_50K_data = coupons_coffee_only[~(coupons_coffee_only['income'].isin(income_less_50))]\n",
    "print (\"Ratio of Accepted Coffee Coupons by people with Income < 50K: \\n\",((ratio_of_acceptance(less_50K_data))*100).round(2),\"%\")\n",
    "print (\"Ratio of Accepted Coffee Coupons by people with Income >= 50K: \\n\",((ratio_of_acceptance(over_50K_data))*100).round(2),\"%\")\n"
   ]
  },
  {
   "cell_type": "code",
   "execution_count": 104,
   "metadata": {
    "id": "RrqUWn7d_qRL"
   },
   "outputs": [
    {
     "data": {
      "image/png": "[encoded data removed]",
      "text/plain": [
       "<Figure size 500x600 with 1 Axes>"
      ]
     },
     "metadata": {},
     "output_type": "display_data"
    },
    {
     "data": {
      "image/png": "[encoded data removed]",
      "text/plain": [
       "<Figure size 500x600 with 1 Axes>"
      ]
     },
     "metadata": {},
     "output_type": "display_data"
    },
    {
     "data": {
      "image/png": "[encoded data removed]",
      "text/plain": [
       "<Figure size 500x600 with 1 Axes>"
      ]
     },
     "metadata": {},
     "output_type": "display_data"
    }
   ],
   "source": [
    "# Use bar plots to analyze coffee house coupons\n",
    "under_30 = ['below21', '21', '26']\n",
    "income_less_50 = ['Less than $12500', '$12500 - $24999', '$25000 - $37499', '$37500 - $49999']\n",
    "with pd.option_context(\"mode.copy_on_write\", True):\n",
    "    coupons_coffee_only.loc[:,\"visit_frequency\"]=np.where((coupons_coffee_only['CoffeeHouse'].isin(['never', 'less1', '1~3'])),'3_or_Less_Monthly','Over_3_PerMonth')\n",
    "    # Age Bracket for below and above 30\n",
    "    coupons_coffee_only.loc[:,\"age_bracket\"]=np.where((coupons_coffee_only['age'].isin(under_30)),'Under30','Over30')\n",
    "    # Income will for less or more than 50K\n",
    "    coupons_coffee_only.loc[:,\"income_bracket\"]=np.where((coupons_coffee_only['income'].isin(income_less_50)),'Below50K','Above50K')\n",
    "\n",
    "\n",
    "plt.figure(figsize=(5, 6))\n",
    "sns.countplot(x='visit_frequency', hue='Accepted', data=coupons_coffee_only)\n",
    "plt.title(f'Distribution of Accepted Coupons by Coffee House Visits')\n",
    "plt.xticks(rotation=45)\n",
    "plt.tight_layout()\n",
    "plt.show()\n",
    "\n",
    "plt.figure(figsize=(5, 6))\n",
    "sns.countplot(x='age_bracket', hue='Accepted', data=coupons_coffee_only)\n",
    "plt.title(f'Distribution of Accepted Coupons by Age Bracket')\n",
    "plt.xticks(rotation=45)\n",
    "plt.tight_layout()\n",
    "plt.show()\n",
    "\n",
    "plt.figure(figsize=(5, 6))\n",
    "sns.countplot(x='income_bracket', hue='Accepted', data=coupons_coffee_only)\n",
    "plt.title(f'Distribution of Accepted Coupons by Income Bracket')\n",
    "plt.xticks(rotation=45)\n",
    "plt.tight_layout()\n",
    "plt.show()"
   ]
  },
  {
   "cell_type": "markdown",
   "metadata": {
    "id": "_oykf8YP_qRL"
   },
   "source": [
    "The coffee house coupons analysis shows a similar trend than the bar coupons when it comes to people who visit coffee houses more than 3 times per month, like with the bar visits, these drivers have over 67% acceptance.\n",
    "\n",
    "The next category that shows relevance is the age bracket, seems like the younger crowd (below 30) is more prone to accept the coffee coupons based on over 52% acceptance.\n",
    "\n",
    "A recommended review would be to review acceptance with both variables in play at the same time, age and frequency of visits."
   ]
  },
  {
   "cell_type": "code",
   "execution_count": null,
   "metadata": {},
   "outputs": [],
   "source": []
  }
 ],
 "metadata": {
  "colab": {
   "provenance": []
  },
  "kernelspec": {
   "display_name": "Python 3 (ipykernel)",
   "language": "python",
   "name": "python3"
  },
  "language_info": {
   "codemirror_mode": {
    "name": "ipython",
    "version": 3
   },
   "file_extension": ".py",
   "mimetype": "text/x-python",
   "name": "python",
   "nbconvert_exporter": "python",
   "pygments_lexer": "ipython3",
   "version": "3.12.7"
  }
 },
 "nbformat": 4,
 "nbformat_minor": 4
}
